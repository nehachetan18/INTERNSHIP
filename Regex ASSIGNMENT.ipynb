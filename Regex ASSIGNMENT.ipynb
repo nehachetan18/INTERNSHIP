{
 "cells": [
  {
   "cell_type": "code",
   "execution_count": 1,
   "id": "84a648fa",
   "metadata": {},
   "outputs": [
    {
     "name": "stdout",
     "output_type": "stream",
     "text": [
      "Python:Exercises::PHP:exercises:\n"
     ]
    }
   ],
   "source": [
    "#  Question 1- Write a Python program to replace all occurrences of a space, comma, or dot with a colon.\n",
    "#  Sample Text- 'Python Exercises, PHP exercises.'\n",
    "\n",
    "import re\n",
    "text= 'Python Exercises, PHP exercises.'\n",
    "print(re.sub(\"[ ,.]\",\":\",text))"
   ]
  },
  {
   "cell_type": "code",
   "execution_count": 4,
   "id": "958c07b6",
   "metadata": {},
   "outputs": [
    {
     "name": "stdout",
     "output_type": "stream",
     "text": [
      "['es', 'are', 'an', 'example', 'egular', 'expression']\n"
     ]
    }
   ],
   "source": [
    "# Question 2-  Write a Python program to find all words starting with 'a' or 'e' in a given string.\n",
    "\n",
    "import re\n",
    "text=\"All the codes in this file are an example of regular expression.\"\n",
    "list=re.findall(\"[ae]\\w+\",text)\n",
    "print(list)"
   ]
  },
  {
   "cell_type": "code",
   "execution_count": 14,
   "id": "2301ab5a",
   "metadata": {},
   "outputs": [
    {
     "name": "stdout",
     "output_type": "stream",
     "text": [
      "['codes', 'this', 'file', 'examples', 'Regular', 'Expression']\n"
     ]
    }
   ],
   "source": [
    "# Question 3- Create a function in python to find all words that are at least 4 characters long in a string.\n",
    "# The use of the re.compile() method is mandatory.\n",
    "\n",
    "import re\n",
    "target_string ='All the codes in this file are an examples of Regular Expression'\n",
    "\n",
    "pattern=re.compile(r\"\\b\\w{4,}\\b\")\n",
    "result=pattern.findall(target_string)\n",
    "print(result)"
   ]
  },
  {
   "cell_type": "code",
   "execution_count": 16,
   "id": "d8363e78",
   "metadata": {},
   "outputs": [
    {
     "name": "stdout",
     "output_type": "stream",
     "text": [
      "['All', 'the', 'codes', 'this', 'file', 'are', 'RegEx']\n"
     ]
    }
   ],
   "source": [
    "# Question 4- Create a function in python to find all three, four, and five character words in a string.\n",
    "# The use of the re.compile() method is mandatory.\n",
    "\n",
    "import re\n",
    "target_string ='All the codes in this file are an examples of RegEx'\n",
    "\n",
    "pattern=re.compile(r\"\\b\\w{3,5}\\b\")\n",
    "result=pattern.findall(target_string)\n",
    "print(result)\n",
    "\n"
   ]
  },
  {
   "cell_type": "code",
   "execution_count": 77,
   "id": "4b03a639",
   "metadata": {
    "scrolled": true
   },
   "outputs": [
    {
     "name": "stdout",
     "output_type": "stream",
     "text": [
      "example.com\n",
      "hr@fliprobo.com\n",
      "github.com\n",
      "Hello Data Science World\n",
      "Data Scientist\n"
     ]
    }
   ],
   "source": [
    "# Question 5- Create a function in Python to remove the parenthesis in a list of strings. The use of the re.compile() method is mandatory.\n",
    "# Sample Text: [\"example (.com)\", \"hr@fliprobo (.com)\", \"github (.com)\", \"Hello (Data Science World)\", \"Data (Scientist)\"]\n",
    "\n",
    "import re\n",
    "items=[\"example(.com)\", \"hr@fliprobo(.com)\", \"github(.com)\", \"Hello (Data Science World)\", \"Data (Scientist)\"]\n",
    "pattern=re.compile(r'\\(|\\)')\n",
    "for item in items:\n",
    "    print(re.sub(pattern,\"\",item))\n",
    "    "
   ]
  },
  {
   "cell_type": "code",
   "execution_count": 5,
   "id": "1e1bbebc",
   "metadata": {},
   "outputs": [
    {
     "name": "stdout",
     "output_type": "stream",
     "text": [
      "[\"example \",\"hr@fliprobo \",\"github \",\"Hello \",\"Data \"]\n"
     ]
    }
   ],
   "source": [
    "# Question 6- Write a python program to remove the parenthesis area from the text stored in the text file using Regular Expression.\n",
    "# Sample Text: [\"example (.com)\", \"hr@fliprobo (.com)\", \"github (.com)\", \"Hello (Data Science World)\", \"Data (Scientist)\"]\n",
    "\n",
    "import re\n",
    "file=open('q6.txt','r')\n",
    "text=file.read()\n",
    "output=re.sub(r'\\([^)]*\\)',\"\",text)\n",
    "print(output)\n",
    "    \n",
    "    "
   ]
  },
  {
   "cell_type": "code",
   "execution_count": 29,
   "id": "aad3f819",
   "metadata": {},
   "outputs": [
    {
     "name": "stdout",
     "output_type": "stream",
     "text": [
      "['Importance', 'Of', 'Regular', 'Expressions', 'In', 'Python']\n"
     ]
    }
   ],
   "source": [
    "# Question 7- \"Write a regular expression in Python to split a string into uppercase letters.\n",
    "# Sample text:ImportanceOfRegularExpressionsInPython”\n",
    "import re\n",
    "text=\"ImportanceOfRegularExpressionsInPython\"\n",
    "result=re.findall('[A-Z][^A-Z]*',text)\n",
    "print(result)\n"
   ]
  },
  {
   "cell_type": "code",
   "execution_count": 57,
   "id": "535d43da",
   "metadata": {},
   "outputs": [
    {
     "name": "stdout",
     "output_type": "stream",
     "text": [
      "RegularExpression 1IsAn 2ImportantTopic 3InPython\n"
     ]
    }
   ],
   "source": [
    "# Question 8- Create a function in python to insert spaces between words starting with numbers.\n",
    "# Sample Text: “RegularExpression1IsAn2ImportantTopic3InPython\"\n",
    "\n",
    "import re\n",
    "text=\"RegularExpression1IsAn2ImportantTopic3InPython\"\n",
    "pattern=r'(\\d)([A-Za-z]+)'\n",
    "result=re.sub(pattern,r' \\1\\2',text)\n",
    "print(result)"
   ]
  },
  {
   "cell_type": "code",
   "execution_count": 70,
   "id": "33e938a8",
   "metadata": {},
   "outputs": [
    {
     "name": "stdout",
     "output_type": "stream",
     "text": [
      " Regular Expression 1 Is An 2 Important Topic 3 In Python\n"
     ]
    }
   ],
   "source": [
    "# Question 9- Create a function in python to insert spaces between words starting with capital letters or with numbers.\n",
    "# Sample Text: “RegularExpression1IsAn2ImportantTopic3InPython\"\n",
    "import re\n",
    "def insert_spaces(text):\n",
    "    mod_text=re.sub(r'(?<=)([A-Z])',r' \\1',text)\n",
    "    mod_text=re.sub(r'(?<=\\D)(\\d)',r' \\1',mod_text)\n",
    "    return mod_text\n",
    "                    \n",
    "sample_text=\"RegularExpression1IsAn2ImportantTopic3InPython\"\n",
    "mod_text=insert_spaces(sample_text)\n",
    "print(mod_text)\n"
   ]
  },
  {
   "cell_type": "code",
   "execution_count": 60,
   "id": "afb9e9ca",
   "metadata": {},
   "outputs": [
    {
     "name": "stdout",
     "output_type": "stream",
     "text": [
      "xyz@domain.com\n",
      "xyz.abc@sdomain.domain.com.\n",
      "hr@fliprobo.com\n"
     ]
    }
   ],
   "source": [
    "# Question 10- Write a python program to extract email address from the text stored in the text file using Regular Expression.\n",
    "#Sample Text- Hello my name is Data Science and my email address is xyz@domain.com and alternate email address is xyz.abc@sdomain.domain.com. \n",
    "  #Please contact us at hr@fliprobo.com for further information. \n",
    "import re\n",
    "\n",
    "file=open('q9.txt','r')\n",
    "text=file.read()\n",
    "output=re.findall(\"([a-zA-Z0-9_.+-]+@[a-zA-Z0-9-]+\\.[a-zA-Z0-9-.]+)\",text)\n",
    "for result in output:\n",
    "    print(result)"
   ]
  },
  {
   "cell_type": "code",
   "execution_count": 46,
   "id": "b80177e3",
   "metadata": {},
   "outputs": [
    {
     "name": "stdout",
     "output_type": "stream",
     "text": [
      "NO MATCH FOUND\n",
      "MATCH FOUND\n"
     ]
    }
   ],
   "source": [
    "# Question 11- Write a Python program to match a string that contains only upper and lowercase letters, numbers, and underscores.\n",
    "\n",
    "import re\n",
    "def str(text):\n",
    "    pattern='^[a-zA-Z0-9_]*$'\n",
    "    if re.search(pattern,text):\n",
    "        return \"MATCH FOUND\"\n",
    "    else:\n",
    "        return(\"NO MATCH FOUND\")\n",
    "print(str(\"Write a Python program to match a string.\"))\n",
    "print(str(\"Write_Python_program1\"))"
   ]
  },
  {
   "cell_type": "code",
   "execution_count": 59,
   "id": "cf809be4",
   "metadata": {},
   "outputs": [
    {
     "name": "stdout",
     "output_type": "stream",
     "text": [
      "False\n",
      "True\n",
      "True\n",
      "False\n"
     ]
    }
   ],
   "source": [
    "# Question 12- Write a Python program where a string will start with a specific number.\n",
    "\n",
    "import re\n",
    "def match_num(string):\n",
    "    text = re.compile(r\"^71\")\n",
    "    if text.match(string):\n",
    "        return True\n",
    "    else:\n",
    "        return False\n",
    "print(match_num('5animlas'))\n",
    "print(match_num('71fruits'))\n",
    "print(match_num('71dryfruits'))\n",
    "print(match_num('5birds'))"
   ]
  },
  {
   "cell_type": "code",
   "execution_count": 61,
   "id": "93564407",
   "metadata": {},
   "outputs": [
    {
     "name": "stdout",
     "output_type": "stream",
     "text": [
      "313.5.56.21.219\n"
     ]
    }
   ],
   "source": [
    "# Question 13- Write a Python program to remove leading zeros from an IP address\n",
    "\n",
    "import re\n",
    "ip_address=\"313.05.056.021.219\"\n",
    "result= re.sub('\\.[0]*', '.', ip_address)\n",
    "print(result)"
   ]
  },
  {
   "cell_type": "code",
   "execution_count": 74,
   "id": "c3b96735",
   "metadata": {},
   "outputs": [
    {
     "name": "stdout",
     "output_type": "stream",
     "text": [
      "['August 15th 1947']\n"
     ]
    }
   ],
   "source": [
    "# Question 14- Write a regular expression in python to match a date string in the form of Month name followed by day number and year stored in a text file.\n",
    "\n",
    "import re\n",
    "\n",
    "file=open('q14.txt','r')\n",
    "text=file.read()\n",
    "pattern=r'(?i)(?:January|February|March|April|May|June|July|August|September|October|November|December)\\s+\\d{1,2}(?:st|nd|rd|th)?\\s+\\d{4}'\n",
    "dates= re.findall(pattern,text)\n",
    "\n",
    "for result in dates:\n",
    "    print(dates)\n",
    " \n"
   ]
  },
  {
   "cell_type": "code",
   "execution_count": 81,
   "id": "ce948b48",
   "metadata": {},
   "outputs": [
    {
     "name": "stdout",
     "output_type": "stream",
     "text": [
      "SEARCHING FOR\"fox\" in \"The quick brown fox jumps over the lazy dog.\" ==\n",
      "MATCH FOUND\n",
      "SEARCHING FOR\"dog\" in \"The quick brown fox jumps over the lazy dog.\" ==\n",
      "MATCH FOUND\n",
      "SEARCHING FOR\"horse\" in \"The quick brown fox jumps over the lazy dog.\" ==\n",
      "MATCH NOT FOUND\n"
     ]
    }
   ],
   "source": [
    "# Question 15- Write a Python program to search some literals strings in a string. \n",
    "# Sample text : 'The quick brown fox jumps over the lazy dog.'\n",
    "\n",
    "import re\n",
    "patterns=['fox','dog','horse']\n",
    "text='The quick brown fox jumps over the lazy dog.'\n",
    "for pattern in patterns:\n",
    "    print('SEARCHING FOR\"%s\" in \"%s\" =='%(pattern,text),)\n",
    "    if re.search(pattern, text):\n",
    "        print('MATCH FOUND')\n",
    "else:\n",
    "    print('MATCH NOT FOUND')\n"
   ]
  },
  {
   "cell_type": "code",
   "execution_count": 85,
   "id": "01ed492b",
   "metadata": {},
   "outputs": [
    {
     "name": "stdout",
     "output_type": "stream",
     "text": [
      "Found \"fox\" in \"The quick brown fox jumps over the lazy dog.\" from 16 to 19\n"
     ]
    }
   ],
   "source": [
    "# Question 16- Write a Python program to search a literals string in a string and also find the location within the original string where the pattern occurs\n",
    "# Sample text : 'The quick brown fox jumps over the lazy dog.'\n",
    "\n",
    "import re\n",
    "pattern='fox'\n",
    "text='The quick brown fox jumps over the lazy dog.'\n",
    "match=re.search(pattern,text)\n",
    "start=match.start()\n",
    "end=match.end()\n",
    "print('Found \"%s\" in \"%s\" from %d to %d'%\\\n",
    "      (match.re.pattern,match.string,start,end))"
   ]
  },
  {
   "cell_type": "code",
   "execution_count": 92,
   "id": "d6c2c7bb",
   "metadata": {},
   "outputs": [
    {
     "name": "stdout",
     "output_type": "stream",
     "text": [
      "The substring is\"exercises\"\n",
      "The substring is\"exercises\"\n",
      "The substring is\"exercises\"\n"
     ]
    }
   ],
   "source": [
    "# Question 17- Write a Python program to find the substrings within a string.\n",
    "# Sample text : 'Python exercises, PHP exercises, C# exercises'\n",
    "\n",
    "\n",
    "import re\n",
    "text='Python exercises,PHP exercises,C# exercises'\n",
    "pattern='exercises'\n",
    "for match in re.findall(pattern,text):\n",
    "    print('The substring is\"%s\"'% match)"
   ]
  },
  {
   "cell_type": "code",
   "execution_count": 93,
   "id": "89e6be68",
   "metadata": {},
   "outputs": [
    {
     "name": "stdout",
     "output_type": "stream",
     "text": [
      "The substring \"exercises\" is at location 7:16\n",
      "The substring \"exercises\" is at location 21:30\n",
      "The substring \"exercises\" is at location 34:43\n"
     ]
    }
   ],
   "source": [
    "# Question 18- Write a Python program to find the occurrence and position of the substrings within a string.\n",
    "\n",
    "import re\n",
    "text='Python exercises,PHP exercises,C# exercises'\n",
    "pattern='exercises'\n",
    "for match in re.finditer(pattern,text):\n",
    "    start=match.start()\n",
    "    end=match.end()\n",
    "    print('The substring \"%s\" is at location %d:%d'%(text[start:end],start,end))"
   ]
  },
  {
   "cell_type": "code",
   "execution_count": 94,
   "id": "20baf933",
   "metadata": {},
   "outputs": [
    {
     "name": "stdout",
     "output_type": "stream",
     "text": [
      "Orignal date format YYYY-MM-DD =  2020-03-25\n",
      "NEW DATE FORMAT DD-MM-YYYY =  25-03-2020\n"
     ]
    }
   ],
   "source": [
    "# Question 19- Write a Python program to convert a date of yyyy-mm-dd format to dd-mm-yyyy format.\n",
    "\n",
    "import re\n",
    "def new_format(dt):\n",
    "    return re.sub(r'(\\d{4})-(\\d{1,2})-(\\d{1,2})','\\\\3-\\\\2-\\\\1',dt)\n",
    "date=\"2020-03-25\"\n",
    "print(\"Orignal date format YYYY-MM-DD = \",date)\n",
    "print(\"NEW DATE FORMAT DD-MM-YYYY = \",new_format(date))"
   ]
  },
  {
   "cell_type": "code",
   "execution_count": 105,
   "id": "2107b50c",
   "metadata": {},
   "outputs": [
    {
     "name": "stdout",
     "output_type": "stream",
     "text": [
      "['01.12', '145.8', '3.01', '27.25', '0.25']\n"
     ]
    }
   ],
   "source": [
    "# Question 20- Create a function in python to find all decimal numbers with a precision of 1 or 2 in a string. The use of the re.compile() method is mandatory.\n",
    "# Sample Text: \"01.12 0132.123 2.31875 145.8 3.01 27.25 0.25\"\n",
    "\n",
    "import re\n",
    "def find_decimal(text):\n",
    "    pattern=re.compile(r'\\b\\d+\\.\\d{1,2}\\b')\n",
    "    decimal=re.findall(pattern,text)\n",
    "    return decimal\n",
    "text=\"01.12 0132.123 2.31875 145.8 3.01 27.25 0.25\"\n",
    "result=find_decimal(text)\n",
    "print(result)\n"
   ]
  },
  {
   "cell_type": "code",
   "execution_count": 111,
   "id": "1402f508",
   "metadata": {},
   "outputs": [
    {
     "name": "stdout",
     "output_type": "stream",
     "text": [
      "NUMBER IN THE STRING IS: 62\n",
      "LOCATION OF NUMBER IS : 10\n"
     ]
    }
   ],
   "source": [
    "# Question 21- Write a Python program to separate and print the numbers and their position of a given string.\n",
    "\n",
    "import re\n",
    "\n",
    "text= \"There are 62 students in my class.We are currently learning DATA SCIENCE.\"\n",
    "\n",
    "for m in re.finditer(\"\\d+\",text):\n",
    "    print(\"NUMBER IN THE STRING IS:\",m.group(0))\n",
    "    print(\"LOCATION OF NUMBER IS :\",m.start())\n"
   ]
  },
  {
   "cell_type": "code",
   "execution_count": 117,
   "id": "77baf898",
   "metadata": {},
   "outputs": [
    {
     "name": "stdout",
     "output_type": "stream",
     "text": [
      "HIGHEST MARKS: 950\n"
     ]
    }
   ],
   "source": [
    "# Question 22- Write a regular expression in python program to extract maximum/largest numeric value from a string.\n",
    "# Sample Text:  'My marks in each semester are: 947, 896, 926, 524, 734, 950, 642'\n",
    "\n",
    "import re\n",
    "string='My marks in each semester are: 947, 896, 926, 524, 734, 950, 642'\n",
    "number=re.findall('\\d+',string)\n",
    "number=map(int,number)\n",
    "print(\"HIGHEST MARKS:\",max(number))"
   ]
  },
  {
   "cell_type": "code",
   "execution_count": 140,
   "id": "4a0032ab",
   "metadata": {},
   "outputs": [
    {
     "name": "stdout",
     "output_type": "stream",
     "text": [
      "Regular Expression Is An Important Topic In Python\n"
     ]
    }
   ],
   "source": [
    "# Question 23- Create a function in python to insert spaces between words starting with capital letters.\n",
    "# Sample Text: “RegularExpressionIsAnImportantTopicInPython\"\n",
    "\n",
    "import re\n",
    "string='RegularExpressionIsAnImportantTopicInPython'\n",
    "words=re.findall('[A-Z][a-z]*',string)\n",
    "print(' '.join((words)))\n"
   ]
  },
  {
   "cell_type": "code",
   "execution_count": 3,
   "id": "1d2bd8c8",
   "metadata": {},
   "outputs": [
    {
     "name": "stdout",
     "output_type": "stream",
     "text": [
      "Enter the string:Regularexpression\n",
      "SEQUENCE IS PRESENT\n"
     ]
    }
   ],
   "source": [
    "# Question 24- Python regex to find sequences of one upper case letter followed by lower case letters\n",
    "\n",
    "import re\n",
    "def search(ip_str):\n",
    "    re_exp='[A-Z]+[a-z]+$'\n",
    "    if re.search(re_exp,ip_str):\n",
    "        print(\"SEQUENCE IS PRESENT\")\n",
    "    else:\n",
    "        print(\"SEQUENCE DOES NOT EXISTS\")\n",
    "ip_str=input(\"Enter the string:\")\n",
    "search(ip_str)"
   ]
  },
  {
   "cell_type": "code",
   "execution_count": 5,
   "id": "5a384e5d",
   "metadata": {},
   "outputs": [
    {
     "name": "stdout",
     "output_type": "stream",
     "text": [
      "Hello hello world\n"
     ]
    }
   ],
   "source": [
    "# Question 25- Write a Python program to remove continuous duplicate words from Sentence using Regular Expression.\n",
    "# Sample Text: \"Hello hello world world\"\n",
    "\n",
    "import re\n",
    "text=\"Hello hello world world\"\n",
    "pattern=r'\\b(\\w+)( \\1\\b)+'\n",
    "remove=re.sub(pattern,r'\\1',text)\n",
    "print(remove)\n"
   ]
  },
  {
   "cell_type": "code",
   "execution_count": 14,
   "id": "d0bc893d",
   "metadata": {},
   "outputs": [
    {
     "name": "stdout",
     "output_type": "stream",
     "text": [
      "1=\n",
      "Regex@\n",
      "MATCH NOT FOUND\n",
      "\n",
      "2= \n",
      "Regex1234\n",
      "STRING ENDS WITH ALPHANUMERIC CHARACTERS\n"
     ]
    }
   ],
   "source": [
    "# Question 26-  Write a python program using RegEx to accept string ending with alphanumeric character.\n",
    "\n",
    "import re\n",
    "\n",
    "reg_exp='[a-zA-z0-9]$'\n",
    "\n",
    "def check_string(my_string):\n",
    "    if(re.search(reg_exp,my_string)):\n",
    "        print(\"STRING ENDS WITH ALPHANUMERIC CHARACTERS\")\n",
    "    else:\n",
    "        print(\"MATCH NOT FOUND\")\n",
    "\n",
    "my_string_1=\"Regex@\"\n",
    "print(\"1=\")\n",
    "print(my_string_1)\n",
    "check_string(my_string_1)\n",
    "\n",
    "my_string_2=\"Regex1234\"\n",
    "print(\"\\n2= \")\n",
    "print(my_string_2)\n",
    "check_string(my_string_2)"
   ]
  },
  {
   "cell_type": "code",
   "execution_count": 45,
   "id": "9f9ad2f0",
   "metadata": {},
   "outputs": [
    {
     "name": "stdout",
     "output_type": "stream",
     "text": [
      "['#Doltiwal', '#xyzabc', '#Demonetization']\n"
     ]
    }
   ],
   "source": [
    "# Question 27-Write a python program using RegEx to extract the hashtags.\n",
    "# Sample Text:  \"\"\"RT @kapil_kausik: #Doltiwal I mean #xyzabc is \"hurt\" by #Demonetization as the same has rendered USELESS <ed><U+00A0><U+00BD><ed><U+00B1><U+0089> \"acquired funds\" No wo\"\"\"\n",
    "\n",
    "import re\n",
    "\n",
    "def extract_hashtags(text):\n",
    "    hashtags=re.findall(r'#\\w+', text)\n",
    "    return hashtags\n",
    "\n",
    "sample_text = 'RT @kapil_kausik: #Doltiwal I mean #xyzabc is \"hurt\" by #Demonetization as the same has rendered USELESS <ed><U+00A0><U+00BD><ed><U+00B1><U+0089> \"acquired funds\" No wo'\n",
    "hashtags=extract_hashtags(sample_text)\n",
    "print(hashtags)\n",
    "        "
   ]
  },
  {
   "cell_type": "code",
   "execution_count": 56,
   "id": "164eb3a2",
   "metadata": {},
   "outputs": [
    {
     "name": "stdout",
     "output_type": "stream",
     "text": [
      "\"@Jags123456 Bharat band on 28??<ed><ed>Those who  are protesting #demonetization  are all different party leaders\n"
     ]
    }
   ],
   "source": [
    "# Question 28- Write a python program using RegEx to remove <U+..> like symbols\n",
    "# Check the below sample text, there are strange symbols something of the sort <U+..> all over the place. You need to come up with a general Regex expression that will cover all such symbols.\n",
    "# Sample Text: \"@Jags123456 Bharat band on 28??<ed><U+00A0><U+00BD><ed><U+00B8><U+0082>Those who  are protesting #demonetization  are all different party leaders\"\n",
    "\n",
    "import re\n",
    "def remove_symbols(text):\n",
    "    cleaned_text=re.sub(r'<U\\+\\w+>','',text)\n",
    "    return cleaned_text\n",
    "sample_text='\"@Jags123456 Bharat band on 28??<ed><U+00A0><U+00BD><ed><U+00B8><U+0082>Those who  are protesting #demonetization  are all different party leaders'\n",
    "cleaned_text=remove_symbols(sample_text)\n",
    "print(cleaned_text)"
   ]
  },
  {
   "cell_type": "code",
   "execution_count": null,
   "id": "22102530",
   "metadata": {},
   "outputs": [],
   "source": []
  },
  {
   "cell_type": "code",
   "execution_count": 54,
   "id": "a1dc4c5c",
   "metadata": {},
   "outputs": [
    {
     "name": "stdout",
     "output_type": "stream",
     "text": [
      "12-09-1992\n",
      "15-12-1999\n"
     ]
    }
   ],
   "source": [
    "# Question 29- Write a python program to extract dates from the text stored in the text file.\n",
    "# Sample Text: Ron was born on 12-09-1992 and he was admitted to school 15-12-1999.\n",
    "\n",
    "import re\n",
    "\n",
    "file=open('q29.txt','r')\n",
    "text=file.read()\n",
    "pattern=r'\\d{2}-\\d{2}-\\d{4}'\n",
    "dates= re.findall(pattern,text)\n",
    "\n",
    "for result in dates:\n",
    "    print(result)"
   ]
  },
  {
   "cell_type": "code",
   "execution_count": 55,
   "id": "a02670a5",
   "metadata": {},
   "outputs": [
    {
     "name": "stdout",
     "output_type": "stream",
     "text": [
      " following example creates  ArrayList  a capacity   elements. 4 elements   added   ArrayList   ArrayList  trimmed accordingly.\n"
     ]
    }
   ],
   "source": [
    "# Question 30- Create a function in python to remove all words from a string of length between 2 and 4.\n",
    "# The use of the re.compile() method is mandatory.\n",
    "# Sample Text: \"The following example creates an ArrayList with a capacity of 50 elements. 4 elements are then added to the ArrayList and the ArrayList is trimmed accordingly.\"\n",
    "\n",
    "import re\n",
    "\n",
    "def remove_words(text):\n",
    "    pattern=re.compile(r'\\b\\w{2,4}\\b')\n",
    "    cleaned_text=pattern.sub('',text)\n",
    "    return cleaned_text\n",
    "sample_text=\"The following example creates an ArrayList with a capacity of 50 elements. 4 elements are then added to the ArrayList and the ArrayList is trimmed accordingly.\"\n",
    "cleaned_text=remove_words(sample_text)\n",
    "print(cleaned_text)"
   ]
  },
  {
   "cell_type": "code",
   "execution_count": null,
   "id": "fda0b6e3",
   "metadata": {},
   "outputs": [],
   "source": []
  }
 ],
 "metadata": {
  "kernelspec": {
   "display_name": "Python 3 (ipykernel)",
   "language": "python",
   "name": "python3"
  },
  "language_info": {
   "codemirror_mode": {
    "name": "ipython",
    "version": 3
   },
   "file_extension": ".py",
   "mimetype": "text/x-python",
   "name": "python",
   "nbconvert_exporter": "python",
   "pygments_lexer": "ipython3",
   "version": "3.9.13"
  }
 },
 "nbformat": 4,
 "nbformat_minor": 5
}
